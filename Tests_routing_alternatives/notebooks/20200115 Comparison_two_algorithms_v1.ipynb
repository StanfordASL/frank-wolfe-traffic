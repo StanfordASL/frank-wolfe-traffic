{
 "cells": [
  {
   "cell_type": "markdown",
   "metadata": {
    "toc": true
   },
   "source": [
    "<h1>Table of Contents<span class=\"tocSkip\"></span></h1>\n",
    "<div class=\"toc\"><ul class=\"toc-item\"><li><span><a href=\"#Description\" data-toc-modified-id=\"Description-1\"><span class=\"toc-item-num\">1&nbsp;&nbsp;</span>Description</a></span></li><li><span><a href=\"#Load\" data-toc-modified-id=\"Load-2\"><span class=\"toc-item-num\">2&nbsp;&nbsp;</span>Load</a></span></li><li><span><a href=\"#Bi-directional-problem\" data-toc-modified-id=\"Bi-directional-problem-3\"><span class=\"toc-item-num\">3&nbsp;&nbsp;</span>Bi-directional problem</a></span><ul class=\"toc-item\"><li><span><a href=\"#Run\" data-toc-modified-id=\"Run-3.1\"><span class=\"toc-item-num\">3.1&nbsp;&nbsp;</span>Run</a></span><ul class=\"toc-item\"><li><span><a href=\"#Init-Graph\" data-toc-modified-id=\"Init-Graph-3.1.1\"><span class=\"toc-item-num\">3.1.1&nbsp;&nbsp;</span>Init Graph</a></span></li><li><span><a href=\"#Run-ICU\" data-toc-modified-id=\"Run-ICU-3.1.2\"><span class=\"toc-item-num\">3.1.2&nbsp;&nbsp;</span>Run ICU</a></span></li><li><span><a href=\"#Run-Outer-Cost-Update\" data-toc-modified-id=\"Run-Outer-Cost-Update-3.1.3\"><span class=\"toc-item-num\">3.1.3&nbsp;&nbsp;</span>Run Outer Cost Update</a></span></li></ul></li></ul></li></ul></div>"
   ]
  },
  {
   "cell_type": "markdown",
   "metadata": {},
   "source": [
    "# Description"
   ]
  },
  {
   "cell_type": "markdown",
   "metadata": {},
   "source": [
    "This file aims at implementing both versions of the algorithm (with rebalancers update inside and outside of the loop) and at comparing their performance and convergence to a solution. \n",
    "\n",
    "Comparison is done on a simple graph. The dummy problem we talked about. "
   ]
  },
  {
   "cell_type": "markdown",
   "metadata": {},
   "source": [
    "# Load"
   ]
  },
  {
   "cell_type": "code",
   "execution_count": 8,
   "metadata": {},
   "outputs": [],
   "source": [
    "%load_ext autoreload\n",
    "%autoreload 2\n",
    "import networkx as nx\n",
    "import matplotlib.pyplot as plt\n",
    "import numpy as np\n",
    "from routines_icu import *\n",
    "from helpers_icu import *\n",
    "import cvxpy as cp\n",
    "from FW_icu import *"
   ]
  },
  {
   "cell_type": "markdown",
   "metadata": {},
   "source": [
    "# Bi-directional problem"
   ]
  },
  {
   "cell_type": "code",
   "execution_count": 9,
   "metadata": {},
   "outputs": [],
   "source": [
    "#parameters\n",
    "alpha=0.15\n",
    "beta=4\n",
    "POTENTIAL_SHIFT=90\n",
    "INVERSE_DEMAND_SHIFT=80\n",
    "\n",
    "ZC_EDGE=1"
   ]
  },
  {
   "cell_type": "code",
   "execution_count": 10,
   "metadata": {},
   "outputs": [],
   "source": [
    "L_dum=10\n",
    "#to adapt\n",
    "#to be read from file if necessary\n",
    "nodes_list=['1','2','2_p','R','1_p']\n",
    "edge_list=[('1','2'),('2','1'),('2','2_p'),('1','R'),('1','2_p'),('1','1_p'),('2','1_p'),('2','R')]\n",
    "k_list=[10,10,3,10,ZC_EDGE,2,ZC_EDGE,10] \n",
    "l_list=[10,10,1,L_dum,0,1,0,L_dum]\n",
    "t_list=[10,10,10,10,ZC_EDGE,10,ZC_EDGE,10]\n",
    "phi_list=[phi(l_list[i],t_list[i]) for i in range(len(l_list))]\n",
    "is_negative=[0,0,1,0,0,1,0,0]\n",
    "\n",
    "nodes_pots=[('2_p',POTENTIAL_SHIFT),('1_p',POTENTIAL_SHIFT)]"
   ]
  },
  {
   "cell_type": "code",
   "execution_count": 11,
   "metadata": {},
   "outputs": [
    {
     "name": "stdout",
     "output_type": "stream",
     "text": [
      "{('1', '2_p'): 10, ('2', 'R'): 10, ('2', '1_p'): 10, ('1', 'R'): 10}\n"
     ]
    }
   ],
   "source": [
    "OD=dict()\n",
    "N=10\n",
    "OD[('1','2_p')]=N\n",
    "OD[('2','R')]=N\n",
    "OD[('2','1_p')]=N\n",
    "OD[('1','R')]=N\n",
    "\n",
    "print(OD)"
   ]
  },
  {
   "cell_type": "markdown",
   "metadata": {},
   "source": [
    "## Run"
   ]
  },
  {
   "cell_type": "markdown",
   "metadata": {},
   "source": [
    "### Init Graph"
   ]
  },
  {
   "cell_type": "code",
   "execution_count": null,
   "metadata": {},
   "outputs": [],
   "source": [
    "OD=dict()\n",
    "N=10\n",
    "OD['1','2_p']=N\n",
    "OD['2','1_p']=N"
   ]
  },
  {
   "cell_type": "code",
   "execution_count": null,
   "metadata": {},
   "outputs": [],
   "source": [
    "G=nx.DiGraph()\n",
    "G.add_nodes_from(nodes_list)\n",
    "G.add_edges_from(edge_list)"
   ]
  },
  {
   "cell_type": "code",
   "execution_count": null,
   "metadata": {},
   "outputs": [],
   "source": [
    "G=initEdgeAttr(G,edge_list,k_list,phi_list,is_negative)\n",
    "G=initNodeAttr(G,nodes_pots)\n",
    "G=update_costs(G,INVERSE_DEMAND_SHIFT)\n",
    "\n",
    "#Create a feasible solution for the passengers\n",
    "G=init_flows(G,OD) \n",
    "\n",
    "# for e in G.edges():\n",
    "#     print(e,\" --- \",G.edges[e])\n",
    "\n",
    "G=update_costs(G,INVERSE_DEMAND_SHIFT)\n",
    "\n",
    "dummy_nodes=dict()\n",
    "dummy_nodes['2_p']='2'\n",
    "dummy_nodes['1_p']='1'"
   ]
  },
  {
   "cell_type": "markdown",
   "metadata": {},
   "source": [
    "### Run ICU"
   ]
  },
  {
   "cell_type": "code",
   "execution_count": null,
   "metadata": {},
   "outputs": [],
   "source": [
    "G_k,y_list,opt_res,OD_list=modified_FW(G,OD,edge_list,dummy_nodes,maxIter=400,\n",
    "                         step='fixed',rebalancer_smoothing=True, ri_smoothing=False,evolving_bounds=True)"
   ]
  },
  {
   "cell_type": "markdown",
   "metadata": {},
   "source": [
    "### Run Outer Cost Update"
   ]
  },
  {
   "cell_type": "code",
   "execution_count": null,
   "metadata": {},
   "outputs": [],
   "source": []
  }
 ],
 "metadata": {
  "kernelspec": {
   "display_name": "Python 3",
   "language": "python",
   "name": "python3"
  },
  "language_info": {
   "codemirror_mode": {
    "name": "ipython",
    "version": 3
   },
   "file_extension": ".py",
   "mimetype": "text/x-python",
   "name": "python",
   "nbconvert_exporter": "python",
   "pygments_lexer": "ipython3",
   "version": "3.6.8"
  },
  "toc": {
   "base_numbering": 1,
   "nav_menu": {},
   "number_sections": true,
   "sideBar": true,
   "skip_h1_title": false,
   "title_cell": "Table of Contents",
   "title_sidebar": "Contents",
   "toc_cell": true,
   "toc_position": {},
   "toc_section_display": true,
   "toc_window_display": true
  },
  "varInspector": {
   "cols": {
    "lenName": 16,
    "lenType": 16,
    "lenVar": 40
   },
   "kernels_config": {
    "python": {
     "delete_cmd_postfix": "",
     "delete_cmd_prefix": "del ",
     "library": "var_list.py",
     "varRefreshCmd": "print(var_dic_list())"
    },
    "r": {
     "delete_cmd_postfix": ") ",
     "delete_cmd_prefix": "rm(",
     "library": "var_list.r",
     "varRefreshCmd": "cat(var_dic_list()) "
    }
   },
   "types_to_exclude": [
    "module",
    "function",
    "builtin_function_or_method",
    "instance",
    "_Feature"
   ],
   "window_display": false
  }
 },
 "nbformat": 4,
 "nbformat_minor": 2
}
