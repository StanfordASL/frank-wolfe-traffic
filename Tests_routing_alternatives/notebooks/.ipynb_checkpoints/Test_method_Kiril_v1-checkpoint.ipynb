{
 "cells": [
  {
   "cell_type": "markdown",
   "metadata": {
    "toc": true
   },
   "source": [
    "<h1>Table of Contents<span class=\"tocSkip\"></span></h1>\n",
    "<div class=\"toc\"><ul class=\"toc-item\"><li><span><a href=\"#Routines\" data-toc-modified-id=\"Routines-1\"><span class=\"toc-item-num\">1&nbsp;&nbsp;</span>Routines</a></span></li></ul></div>"
   ]
  },
  {
   "cell_type": "code",
   "execution_count": 3,
   "metadata": {},
   "outputs": [],
   "source": [
    "import networkx as nx\n",
    "import matplotlib.pyplot as plt\n",
    "import numpy as np\n",
    "\n",
    "from helpers import *"
   ]
  },
  {
   "cell_type": "code",
   "execution_count": 109,
   "metadata": {},
   "outputs": [],
   "source": [
    "G=nx.DiGraph()\n",
    "\n",
    "G.add_nodes_from(['1','2','2_p','R'])\n",
    "\n",
    "edge_list=[('1','2'),('2','1'),('2','2_p'),('1','R')]\n",
    "G.add_edges_from(edge_list)"
   ]
  },
  {
   "cell_type": "code",
   "execution_count": 124,
   "metadata": {},
   "outputs": [],
   "source": [
    "#to adapt\n",
    "#to be read from file if necessary\n",
    "k_list=[1,10,10,10] \n",
    "l_list=[10,10,10,10]\n",
    "t_list=[10,10,10,10]\n",
    "phi_list=[phi(l_list[i],t_list[i]) for i in range(len(l_list))]\n",
    "is_negative=[0,0,1,0]"
   ]
  },
  {
   "cell_type": "code",
   "execution_count": 114,
   "metadata": {},
   "outputs": [],
   "source": [
    "#parameters\n",
    "alpha=0.15\n",
    "beta=4\n",
    "\n",
    "POTENTIAL_SHIFT=90"
   ]
  },
  {
   "cell_type": "code",
   "execution_count": 131,
   "metadata": {},
   "outputs": [
    {
     "data": {
      "text/plain": [
       "NodeDataView({'1': {}, '2': {}, '2_p': {'pot': 90}, 'R': {}})"
      ]
     },
     "execution_count": 131,
     "metadata": {},
     "output_type": "execute_result"
    }
   ],
   "source": [
    "G.nodes.data()"
   ]
  },
  {
   "cell_type": "code",
   "execution_count": 127,
   "metadata": {},
   "outputs": [
    {
     "data": {
      "text/plain": [
       "OutEdgeDataView([('1', '2', {'cost': <function <lambda> at 0xa21a30510>, 'k': 1, 'phi': 36.0, 'sign': 1}), ('1', 'R', {'cost': <function <lambda> at 0xa21a307b8>, 'k': 10, 'phi': 36.0, 'sign': 1}), ('2', '1', {'cost': <function <lambda> at 0xa219c9d08>, 'k': 10, 'phi': 36.0, 'sign': 1}), ('2', '2_p', {'cost': <function <lambda> at 0xa21a308c8>, 'k': 10, 'phi': 36.0, 'sign': -1})])"
      ]
     },
     "execution_count": 127,
     "metadata": {},
     "output_type": "execute_result"
    }
   ],
   "source": [
    "G.edges.data()"
   ]
  },
  {
   "cell_type": "code",
   "execution_count": 130,
   "metadata": {},
   "outputs": [],
   "source": [
    "G.nodes['2_p']['pot']=POTENTIAL_SHIFT"
   ]
  },
  {
   "cell_type": "code",
   "execution_count": 132,
   "metadata": {},
   "outputs": [],
   "source": [
    "for i in range(len(edge_list)):\n",
    "    e=edge_list[i]\n",
    "    G[e[0]][e[1]]['k']=k_list[i]\n",
    "    G[e[0]][e[1]]['phi']=phi_list[i]\n",
    "    G[e[0]][e[1]]['sign']=(-1)**is_negative[i]"
   ]
  },
  {
   "cell_type": "markdown",
   "metadata": {},
   "source": [
    "# Routines"
   ]
  },
  {
   "cell_type": "code",
   "execution_count": 134,
   "metadata": {},
   "outputs": [],
   "source": [
    "def init_flows(G):\n",
    "    for e in G.edges:\n",
    "        G[e[0]][e[1]]['f']=0\n",
    "    return G"
   ]
  },
  {
   "cell_type": "code",
   "execution_count": 123,
   "metadata": {},
   "outputs": [],
   "source": [
    "def update_costs(G):\n",
    "    for e in G.edges:\n",
    "        x=G[e[0]][e[1]]['f']\n",
    "        phi=G[e[0]][e[1]]['phi']\n",
    "        k=G[e[0]][e[1]]['k']\n",
    "        G[e[0]][e[1]]['cost']=BPR(alpha,beta,phi,x,k)\n",
    "        G[e[0]][e[1]]['cost_int']=BPR_int(alpha,beta,phi,x,k)\n",
    "    return G"
   ]
  },
  {
   "cell_type": "code",
   "execution_count": null,
   "metadata": {},
   "outputs": [],
   "source": [
    "def stopping_criterion(x_k,y_k):\n",
    "    "
   ]
  },
  {
   "cell_type": "code",
   "execution_count": null,
   "metadata": {},
   "outputs": [],
   "source": [
    "#replace the AllOrNothing assignment\n",
    "def assign_iteration(G,OD):\n",
    "    \n",
    "    for (o,d) in OD:\n",
    "        \n",
    "        #shortest-path query\n",
    "        if c...\n",
    "        \n",
    "        else...\n",
    "    \n",
    "    \n",
    "    "
   ]
  },
  {
   "cell_type": "code",
   "execution_count": 135,
   "metadata": {},
   "outputs": [],
   "source": [
    "def updated_FW(G,OD):\n",
    "    G=init_flows(G)\n",
    "    x_k=extract_flows(G)\n",
    "    while not stopping_criterion(x_k,y_k):\n",
    "        y_k=assign_iteration(G,OD,x_k)\n",
    "        a_k=line_search(x_k,y_k)\n",
    "        x_k=x_k+a_k*(y_k-x_k)\n",
    "    return x_k"
   ]
  }
 ],
 "metadata": {
  "kernelspec": {
   "display_name": "Python 3",
   "language": "python",
   "name": "python3"
  },
  "language_info": {
   "codemirror_mode": {
    "name": "ipython",
    "version": 3
   },
   "file_extension": ".py",
   "mimetype": "text/x-python",
   "name": "python",
   "nbconvert_exporter": "python",
   "pygments_lexer": "ipython3",
   "version": "3.6.8"
  },
  "toc": {
   "base_numbering": 1,
   "nav_menu": {},
   "number_sections": true,
   "sideBar": true,
   "skip_h1_title": false,
   "title_cell": "Table of Contents",
   "title_sidebar": "Contents",
   "toc_cell": true,
   "toc_position": {},
   "toc_section_display": true,
   "toc_window_display": true
  },
  "varInspector": {
   "cols": {
    "lenName": 16,
    "lenType": 16,
    "lenVar": 40
   },
   "kernels_config": {
    "python": {
     "delete_cmd_postfix": "",
     "delete_cmd_prefix": "del ",
     "library": "var_list.py",
     "varRefreshCmd": "print(var_dic_list())"
    },
    "r": {
     "delete_cmd_postfix": ") ",
     "delete_cmd_prefix": "rm(",
     "library": "var_list.r",
     "varRefreshCmd": "cat(var_dic_list()) "
    }
   },
   "types_to_exclude": [
    "module",
    "function",
    "builtin_function_or_method",
    "instance",
    "_Feature"
   ],
   "window_display": false
  }
 },
 "nbformat": 4,
 "nbformat_minor": 2
}
