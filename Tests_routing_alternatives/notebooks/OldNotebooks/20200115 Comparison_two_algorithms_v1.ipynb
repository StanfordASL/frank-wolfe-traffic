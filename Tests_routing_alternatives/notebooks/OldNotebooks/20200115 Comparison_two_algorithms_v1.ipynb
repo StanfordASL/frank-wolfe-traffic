{
 "cells": [
  {
   "cell_type": "markdown",
   "metadata": {
    "toc": true
   },
   "source": [
    "<h1>Table of Contents<span class=\"tocSkip\"></span></h1>\n",
    "<div class=\"toc\"><ul class=\"toc-item\"><li><span><a href=\"#Description\" data-toc-modified-id=\"Description-1\"><span class=\"toc-item-num\">1&nbsp;&nbsp;</span>Description</a></span></li><li><span><a href=\"#Load\" data-toc-modified-id=\"Load-2\"><span class=\"toc-item-num\">2&nbsp;&nbsp;</span>Load</a></span></li><li><span><a href=\"#Bi-directional-problem\" data-toc-modified-id=\"Bi-directional-problem-3\"><span class=\"toc-item-num\">3&nbsp;&nbsp;</span>Bi-directional problem</a></span><ul class=\"toc-item\"><li><span><a href=\"#Run\" data-toc-modified-id=\"Run-3.1\"><span class=\"toc-item-num\">3.1&nbsp;&nbsp;</span>Run</a></span><ul class=\"toc-item\"><li><span><a href=\"#Init-Graph\" data-toc-modified-id=\"Init-Graph-3.1.1\"><span class=\"toc-item-num\">3.1.1&nbsp;&nbsp;</span>Init Graph</a></span></li><li><span><a href=\"#Run-ICU\" data-toc-modified-id=\"Run-ICU-3.1.2\"><span class=\"toc-item-num\">3.1.2&nbsp;&nbsp;</span>Run ICU</a></span></li><li><span><a href=\"#Run-Outer-Cost-Update\" data-toc-modified-id=\"Run-Outer-Cost-Update-3.1.3\"><span class=\"toc-item-num\">3.1.3&nbsp;&nbsp;</span>Run Outer Cost Update</a></span></li></ul></li></ul></li><li><span><a href=\"#Comparison-of-both-algorithms\" data-toc-modified-id=\"Comparison-of-both-algorithms-4\"><span class=\"toc-item-num\">4&nbsp;&nbsp;</span>Comparison of both algorithms</a></span></li></ul></div>"
   ]
  },
  {
   "cell_type": "markdown",
   "metadata": {},
   "source": [
    "# Description"
   ]
  },
  {
   "cell_type": "markdown",
   "metadata": {},
   "source": [
    "This file aims at implementing both versions of the algorithm (with rebalancers update inside and outside of the loop) and at comparing their performance and convergence to a solution. \n",
    "\n",
    "Comparison is done on a simple graph. The dummy problem we talked about. "
   ]
  },
  {
   "cell_type": "markdown",
   "metadata": {},
   "source": [
    "# Load"
   ]
  },
  {
   "cell_type": "code",
   "execution_count": 12,
   "metadata": {},
   "outputs": [
    {
     "name": "stdout",
     "output_type": "stream",
     "text": [
      "The autoreload extension is already loaded. To reload it, use:\n",
      "  %reload_ext autoreload\n"
     ]
    }
   ],
   "source": [
    "%load_ext autoreload\n",
    "%autoreload 2\n",
    "import networkx as nx\n",
    "import matplotlib.pyplot as plt\n",
    "import numpy as np\n",
    "from routines_icu import *\n",
    "from helpers_icu import *\n",
    "import cvxpy as cp\n",
    "from FW_icu import *\n",
    "\n",
    "from FW_OuterUpdate import solve"
   ]
  },
  {
   "cell_type": "markdown",
   "metadata": {},
   "source": [
    "# Bi-directional problem"
   ]
  },
  {
   "cell_type": "code",
   "execution_count": 13,
   "metadata": {},
   "outputs": [],
   "source": [
    "#parameters\n",
    "alpha=0.15\n",
    "beta=4\n",
    "POTENTIAL_SHIFT=90\n",
    "INVERSE_DEMAND_SHIFT=80\n",
    "\n",
    "ZC_EDGE=1"
   ]
  },
  {
   "cell_type": "code",
   "execution_count": 14,
   "metadata": {},
   "outputs": [],
   "source": [
    "L_dum=10\n",
    "#to adapt\n",
    "#to be read from file if necessary\n",
    "nodes_list=['1','2','2_p','R','1_p']\n",
    "edge_list=[('1','2'),('2','1'),('2','2_p'),('1','R'),('1','2_p'),('1','1_p'),('2','1_p'),('2','R')]\n",
    "k_list=[10,10,3,10,ZC_EDGE,2,ZC_EDGE,10] \n",
    "l_list=[10,10,1,L_dum,0,1,0,L_dum]\n",
    "t_list=[10,10,10,10,ZC_EDGE,10,ZC_EDGE,10]\n",
    "phi_list=[phi(l_list[i],t_list[i]) for i in range(len(l_list))]\n",
    "is_negative=[0,0,1,0,0,1,0,0]\n",
    "\n",
    "nodes_pots=[('2_p',POTENTIAL_SHIFT),('1_p',POTENTIAL_SHIFT)]"
   ]
  },
  {
   "cell_type": "code",
   "execution_count": 24,
   "metadata": {},
   "outputs": [],
   "source": [
    "dummy_nodes=dict()\n",
    "dummy_nodes['2_p']='2'\n",
    "dummy_nodes['1_p']='1'"
   ]
  },
  {
   "cell_type": "markdown",
   "metadata": {},
   "source": [
    "## Run"
   ]
  },
  {
   "cell_type": "markdown",
   "metadata": {},
   "source": [
    "### Init Graph"
   ]
  },
  {
   "cell_type": "code",
   "execution_count": 235,
   "metadata": {},
   "outputs": [],
   "source": [
    "#Note: it is the same to write OD[(a,b)] as OD[a,b]\n",
    "\n",
    "OD=dict()\n",
    "N=10\n",
    "OD['1','2_p']=N\n",
    "OD['2','1_p']=N"
   ]
  },
  {
   "cell_type": "code",
   "execution_count": 236,
   "metadata": {},
   "outputs": [],
   "source": [
    "G=nx.DiGraph()\n",
    "G.add_nodes_from(nodes_list)\n",
    "G.add_edges_from(edge_list)"
   ]
  },
  {
   "cell_type": "code",
   "execution_count": 237,
   "metadata": {},
   "outputs": [],
   "source": [
    "G=initEdgeAttr(G,edge_list,k_list,phi_list,is_negative)\n",
    "G=initNodeAttr(G,nodes_pots)\n",
    "G=update_costs(G,INVERSE_DEMAND_SHIFT)\n",
    "\n",
    "#Create a feasible solution for the passengers\n",
    "G=init_flows(G,OD) \n",
    "\n",
    "G=update_costs(G,INVERSE_DEMAND_SHIFT)"
   ]
  },
  {
   "cell_type": "code",
   "execution_count": 238,
   "metadata": {},
   "outputs": [],
   "source": [
    "G_0=G.copy()"
   ]
  },
  {
   "cell_type": "markdown",
   "metadata": {},
   "source": [
    "### Run ICU"
   ]
  },
  {
   "cell_type": "markdown",
   "metadata": {},
   "source": [
    "First algorithm with the updates in the loop"
   ]
  },
  {
   "cell_type": "code",
   "execution_count": 280,
   "metadata": {},
   "outputs": [],
   "source": [
    "G_icu,y_list,opt_res,OD_list=modified_FW(G_0.copy(),OD.copy(),edge_list,dummy_nodes,maxIter=400,\n",
    "                         step='fixed',rebalancer_smoothing=True, ri_smoothing=False,evolving_bounds=False)"
   ]
  },
  {
   "cell_type": "code",
   "execution_count": 281,
   "metadata": {},
   "outputs": [
    {
     "data": {
      "text/plain": [
       "{('1', '2_p'): 10,\n",
       " ('2', '1_p'): 10,\n",
       " ('1', 'R'): 0,\n",
       " ('2', 'R'): 2.8543436630423207}"
      ]
     },
     "execution_count": 281,
     "metadata": {},
     "output_type": "execute_result"
    }
   ],
   "source": [
    "OD_list[-1]"
   ]
  },
  {
   "cell_type": "code",
   "execution_count": 282,
   "metadata": {},
   "outputs": [
    {
     "name": "stdout",
     "output_type": "stream",
     "text": [
      "('1', '2')  :  8.621499252181273\n",
      "('1', 'R')  :  2.8227367709211344\n",
      "('1', '2_p')  :  1.3785007478187314\n",
      "('1', '1_p')  :  5.7955568419972545\n",
      "('2', '1')  :  8.621634428101697\n",
      "('2', '2_p')  :  8.621499252181273\n",
      "('2', '1_p')  :  4.204443158002741\n",
      "('2', 'R')  :  0.0\n"
     ]
    }
   ],
   "source": [
    "print_final_flows(G_icu)"
   ]
  },
  {
   "cell_type": "code",
   "execution_count": 283,
   "metadata": {},
   "outputs": [
    {
     "name": "stdout",
     "output_type": "stream",
     "text": [
      "('1', '2')  :  38.964361480796505\n",
      "('1', 'R')  :  41.16476111184817\n",
      "('1', '2_p')  :  90.0\n",
      "('1', '1_p')  :  50.577903173569744\n",
      "('2', '1')  :  38.92561497627678\n",
      "('2', '2_p')  :  50.197055318475336\n",
      "('2', '1_p')  :  90.0\n",
      "('2', 'R')  :  10000000000000000000000\n"
     ]
    }
   ],
   "source": [
    "print_final_cost(G_icu)"
   ]
  },
  {
   "cell_type": "markdown",
   "metadata": {},
   "source": [
    "### Run Outer Cost Update"
   ]
  },
  {
   "cell_type": "markdown",
   "metadata": {},
   "source": [
    "Second algorithm with the updates inside the loop"
   ]
  },
  {
   "cell_type": "markdown",
   "metadata": {},
   "source": [
    "The tolerance value below is on the r_i : how much we need them to be close to each other between two iterations"
   ]
  },
  {
   "cell_type": "code",
   "execution_count": 285,
   "metadata": {
    "scrolled": true
   },
   "outputs": [
    {
     "name": "stdout",
     "output_type": "stream",
     "text": [
      "##########################################\n",
      "ITERATION #:  1\n",
      "CURRENT RI_k\n",
      "{'1': 0, '2': 0, '2_p': 0, 'R': 0, '1_p': 0}\n",
      "CURRENT OD: {('1', '2_p'): 10, ('2', '1_p'): 10, ('1', 'R'): 0, ('2', 'R'): 0}\n",
      "Cost at the beginning of the iteration:\n",
      "('1', '2')  :  36.0\n",
      "('1', 'R')  :  10000000000000000000000\n",
      "('1', '2_p')  :  90.0\n",
      "('1', '1_p')  :  13.599999999999994\n",
      "('2', '1')  :  36.0\n",
      "('2', '2_p')  :  13.599999999999994\n",
      "('2', '1_p')  :  90.0\n",
      "('2', 'R')  :  10000000000000000000000\n",
      "Flows at the beginning of the iteration:\n",
      "('1', '2')  :  0\n",
      "('1', 'R')  :  0\n",
      "('1', '2_p')  :  10\n",
      "('1', '1_p')  :  0\n",
      "('2', '1')  :  0\n",
      "('2', '2_p')  :  0\n",
      "('2', '1_p')  :  10\n",
      "('2', 'R')  :  0\n",
      "##########################################\n",
      "ITERATION #:  2\n",
      "CURRENT RI_k\n",
      "{'1': 2.7939952239025567, '2': -2.7939952239025567, '2_p': 0, 'R': 0.0, '1_p': 0}\n",
      "CURRENT OD: {('1', '2_p'): 10, ('2', '1_p'): 10, ('1', 'R'): 0, ('2', 'R'): 2.7939952239025567}\n",
      "Cost at the beginning of the iteration:\n",
      "('1', '2')  :  41.4\n",
      "('1', 'R')  :  41.4\n",
      "('1', '2_p')  :  90.0\n",
      "('1', '1_p')  :  13.599999999999994\n",
      "('2', '1')  :  36.03290761422027\n",
      "('2', '2_p')  :  80.26666666666668\n",
      "('2', '1_p')  :  90.0\n",
      "('2', 'R')  :  10000000000000000000000\n",
      "Flows at the beginning of the iteration:\n",
      "('1', '2')  :  10\n",
      "('1', 'R')  :  2.7939952239025567\n",
      "('1', '2_p')  :  0\n",
      "('1', '1_p')  :  0\n",
      "('2', '1')  :  2.7939952239025567\n",
      "('2', '2_p')  :  10\n",
      "('2', '1_p')  :  10\n",
      "('2', 'R')  :  0\n",
      "##########################################\n",
      "ITERATION #:  3\n",
      "CURRENT RI_k\n",
      "{'1': 2.8798042972666265, '2': -2.8798042972666265, '2_p': 0, 'R': 0.0, '1_p': 0}\n",
      "CURRENT OD: {('1', '2_p'): 10, ('2', '1_p'): 10, ('1', 'R'): 0, ('2', 'R'): 2.8798042972666265}\n",
      "Cost at the beginning of the iteration:\n",
      "('1', '2')  :  36.0\n",
      "('1', 'R')  :  41.4\n",
      "('1', '2_p')  :  90.0\n",
      "('1', '1_p')  :  351.1\n",
      "('2', '1')  :  50.86041084457421\n",
      "('2', '2_p')  :  13.599999999999994\n",
      "('2', '1_p')  :  90.0\n",
      "('2', 'R')  :  10000000000000000000000\n",
      "Flows at the beginning of the iteration:\n",
      "('1', '2')  :  0\n",
      "('1', 'R')  :  2.8798042972666265\n",
      "('1', '2_p')  :  10\n",
      "('1', '1_p')  :  10\n",
      "('2', '1')  :  12.879804297266627\n",
      "('2', '2_p')  :  0\n",
      "('2', '1_p')  :  0\n",
      "('2', 'R')  :  0\n",
      "##########################################\n",
      "ITERATION #:  4\n",
      "CURRENT RI_k\n",
      "{'1': 2.8840491735351117, '2': -2.8840491735351117, '2_p': 0, 'R': 0.0, '1_p': 0}\n",
      "CURRENT OD: {('1', '2_p'): 10, ('2', '1_p'): 10, ('1', 'R'): 0, ('2', 'R'): 2.8840491735351117}\n",
      "Cost at the beginning of the iteration:\n",
      "('1', '2')  :  36.0\n",
      "('1', 'R')  :  41.4\n",
      "('1', '2_p')  :  90.0\n",
      "('1', '1_p')  :  13.599999999999994\n",
      "('2', '1')  :  36.037359788026556\n",
      "('2', '2_p')  :  13.599999999999994\n",
      "('2', '1_p')  :  90.0\n",
      "('2', 'R')  :  10000000000000000000000\n",
      "Flows at the beginning of the iteration:\n",
      "('1', '2')  :  0\n",
      "('1', 'R')  :  2.8840491735351117\n",
      "('1', '2_p')  :  10\n",
      "('1', '1_p')  :  0\n",
      "('2', '1')  :  2.8840491735351117\n",
      "('2', '2_p')  :  0\n",
      "('2', '1_p')  :  10\n",
      "('2', 'R')  :  0\n",
      "##########################################\n",
      "ITERATION #:  5\n",
      "CURRENT RI_k\n",
      "{'1': 2.884269578053429, '2': -2.884269578053429, '2_p': 0, 'R': 0.0, '1_p': 0}\n",
      "CURRENT OD: {('1', '2_p'): 10, ('2', '1_p'): 10, ('1', 'R'): 0, ('2', 'R'): 2.884269578053429}\n",
      "Cost at the beginning of the iteration:\n",
      "('1', '2')  :  36.0\n",
      "('1', 'R')  :  41.4\n",
      "('1', '2_p')  :  90.0\n",
      "('1', '1_p')  :  13.599999999999994\n",
      "('2', '1')  :  36.03737120975977\n",
      "('2', '2_p')  :  13.599999999999994\n",
      "('2', '1_p')  :  90.0\n",
      "('2', 'R')  :  10000000000000000000000\n",
      "Flows at the beginning of the iteration:\n",
      "('1', '2')  :  0\n",
      "('1', 'R')  :  2.884269578053429\n",
      "('1', '2_p')  :  10\n",
      "('1', '1_p')  :  0\n",
      "('2', '1')  :  2.884269578053429\n",
      "('2', '2_p')  :  0\n",
      "('2', '1_p')  :  10\n",
      "('2', 'R')  :  0\n"
     ]
    }
   ],
   "source": [
    "#tol: difference in ri between two iterations\n",
    "#FW_tol: value of the certificate\n",
    "\n",
    "G_FW,ri_FW = solve(G_0.copy(),OD.copy(),edge_list,dummy_nodes,tol=10**-4, FW_tol=10**-4)"
   ]
  },
  {
   "cell_type": "code",
   "execution_count": 286,
   "metadata": {},
   "outputs": [
    {
     "data": {
      "text/plain": [
       "[{'1': 0, '2': 0, '2_p': 0, 'R': 0, '1_p': 0},\n",
       " {'1': 2.7939952239025567,\n",
       "  '2': -2.7939952239025567,\n",
       "  '2_p': 0,\n",
       "  'R': 0.0,\n",
       "  '1_p': 0},\n",
       " {'1': 2.8798042972666265,\n",
       "  '2': -2.8798042972666265,\n",
       "  '2_p': 0,\n",
       "  'R': 0.0,\n",
       "  '1_p': 0},\n",
       " {'1': 2.8840491735351117,\n",
       "  '2': -2.8840491735351117,\n",
       "  '2_p': 0,\n",
       "  'R': 0.0,\n",
       "  '1_p': 0},\n",
       " {'1': 2.884269578053429,\n",
       "  '2': -2.884269578053429,\n",
       "  '2_p': 0,\n",
       "  'R': 0.0,\n",
       "  '1_p': 0},\n",
       " {'1': 2.8842795221155475,\n",
       "  '2': -2.8842795221155475,\n",
       "  '2_p': 0,\n",
       "  'R': 0.0,\n",
       "  '1_p': 0}]"
      ]
     },
     "execution_count": 286,
     "metadata": {},
     "output_type": "execute_result"
    }
   ],
   "source": [
    "ri_FW"
   ]
  },
  {
   "cell_type": "markdown",
   "metadata": {},
   "source": [
    "# Comparison of both algorithms"
   ]
  },
  {
   "cell_type": "code",
   "execution_count": 291,
   "metadata": {},
   "outputs": [],
   "source": [
    "def compare_final(G_icu_list,G_FW_list,att):\n",
    "    G_icu=G_icu_list[-1]\n",
    "    G_FW=G_FW_list[-1]\n",
    "    \n",
    "    for e in G.edges():\n",
    "        if att=='flow':\n",
    "            att_icu=G_icu[e[0]][e[1]]['f_m']+G_icu[e[0]][e[1]]['f_r']\n",
    "            att_FW=G_FW[e[0]][e[1]]['f_m']+G_FW[e[0]][e[1]]['f_r']\n",
    "        elif att=='cost':\n",
    "            att_icu=G_icu[e[0]][e[1]]['cost']\n",
    "            att_FW=G_FW[e[0]][e[1]]['cost']\n",
    "        try:\n",
    "            diff_rel=abs((att_FW-att_icu)/att_FW)\n",
    "        except:\n",
    "            if att_FW==0:\n",
    "                if att_FW-att_icu==0:\n",
    "                    diff_rel=0.0\n",
    "            else:\n",
    "                diff_rel=np.nan\n",
    "        print(e,\" : \", np.around(100*diff_rel,2),\"%\")"
   ]
  },
  {
   "cell_type": "code",
   "execution_count": 292,
   "metadata": {},
   "outputs": [
    {
     "name": "stdout",
     "output_type": "stream",
     "text": [
      "('1', '2')  :  0.36 %\n",
      "('1', 'R')  :  2.13 %\n",
      "('1', '2_p')  :  2.33 %\n",
      "('1', '1_p')  :  0.47 %\n",
      "('2', '1')  :  0.36 %\n",
      "('2', '2_p')  :  0.36 %\n",
      "('2', '1_p')  :  0.64 %\n",
      "('2', 'R')  :  0.0 %\n"
     ]
    }
   ],
   "source": [
    "compare_final(G_icu,G_FW,'flow')"
   ]
  },
  {
   "cell_type": "code",
   "execution_count": 293,
   "metadata": {},
   "outputs": [
    {
     "name": "stdout",
     "output_type": "stream",
     "text": [
      "('1', '2')  :  0.16 %\n",
      "('1', 'R')  :  0.57 %\n",
      "('1', '2_p')  :  0.0 %\n",
      "('1', '1_p')  :  0.78 %\n",
      "('2', '1')  :  0.26 %\n",
      "('2', '2_p')  :  1.52 %\n",
      "('2', '1_p')  :  0.0 %\n",
      "('2', 'R')  :  0.0 %\n"
     ]
    }
   ],
   "source": [
    "compare_final(G_icu,G_FW,'cost')"
   ]
  },
  {
   "cell_type": "code",
   "execution_count": 251,
   "metadata": {},
   "outputs": [
    {
     "name": "stdout",
     "output_type": "stream",
     "text": [
      "('1', '2')  :  8.621499252181273\n",
      "('1', 'R')  :  2.825786017029079\n",
      "('1', '2_p')  :  1.3785007478187314\n",
      "('1', '1_p')  :  5.7955568419972545\n",
      "('2', '1')  :  8.621634428101697\n",
      "('2', '2_p')  :  8.621499252181273\n",
      "('2', '1_p')  :  4.204443158002741\n",
      "('2', 'R')  :  2.8075260572391993\n"
     ]
    }
   ],
   "source": [
    "print_final_flows(G_icu)"
   ]
  },
  {
   "cell_type": "code",
   "execution_count": 250,
   "metadata": {},
   "outputs": [
    {
     "name": "stdout",
     "output_type": "stream",
     "text": [
      "('1', '2')  :  8.65290748974937\n",
      "('1', 'R')  :  2.8842695780534218\n",
      "('1', '2_p')  :  1.3470925102504996\n",
      "('1', '1_p')  :  5.768627967633823\n",
      "('2', '1')  :  8.652897545687246\n",
      "('2', '2_p')  :  8.65290748974937\n",
      "('2', '1_p')  :  4.2313720323661554\n",
      "('2', 'R')  :  0.0\n"
     ]
    }
   ],
   "source": [
    "print_final_flows(G_FW)"
   ]
  },
  {
   "cell_type": "code",
   "execution_count": 210,
   "metadata": {},
   "outputs": [
    {
     "name": "stdout",
     "output_type": "stream",
     "text": [
      "('1', '2')  :  39.032646235968954\n",
      "('1', 'R')  :  41.400000000000034\n",
      "('1', '2_p')  :  90.0\n",
      "('1', '1_p')  :  13.599999999999994\n",
      "('2', '1')  :  39.032646235968976\n",
      "('2', '2_p')  :  51.04007698727102\n",
      "('2', '1_p')  :  90.0\n",
      "('2', 'R')  :  10000000000000000000000\n"
     ]
    }
   ],
   "source": [
    "print_final_cost(G_)"
   ]
  },
  {
   "cell_type": "code",
   "execution_count": 211,
   "metadata": {},
   "outputs": [
    {
     "name": "stdout",
     "output_type": "stream",
     "text": [
      "('1', '2')  :  38.964361480796505\n",
      "('1', 'R')  :  41.339024064935984\n",
      "('1', '2_p')  :  90.0\n",
      "('1', '1_p')  :  13.599999999999994\n",
      "('2', '1')  :  38.930888385767\n",
      "('2', '2_p')  :  50.197055318475336\n",
      "('2', '1_p')  :  90.0\n",
      "('2', 'R')  :  10000000000000000000000\n"
     ]
    }
   ],
   "source": [
    "print_final_cost(G_k)"
   ]
  }
 ],
 "metadata": {
  "kernelspec": {
   "display_name": "Python 3",
   "language": "python",
   "name": "python3"
  },
  "language_info": {
   "codemirror_mode": {
    "name": "ipython",
    "version": 3
   },
   "file_extension": ".py",
   "mimetype": "text/x-python",
   "name": "python",
   "nbconvert_exporter": "python",
   "pygments_lexer": "ipython3",
   "version": "3.6.8"
  },
  "toc": {
   "base_numbering": 1,
   "nav_menu": {},
   "number_sections": true,
   "sideBar": true,
   "skip_h1_title": false,
   "title_cell": "Table of Contents",
   "title_sidebar": "Contents",
   "toc_cell": true,
   "toc_position": {
    "height": "calc(100% - 180px)",
    "left": "10px",
    "top": "150px",
    "width": "173.78750610351562px"
   },
   "toc_section_display": true,
   "toc_window_display": true
  },
  "varInspector": {
   "cols": {
    "lenName": 16,
    "lenType": 16,
    "lenVar": 40
   },
   "kernels_config": {
    "python": {
     "delete_cmd_postfix": "",
     "delete_cmd_prefix": "del ",
     "library": "var_list.py",
     "varRefreshCmd": "print(var_dic_list())"
    },
    "r": {
     "delete_cmd_postfix": ") ",
     "delete_cmd_prefix": "rm(",
     "library": "var_list.r",
     "varRefreshCmd": "cat(var_dic_list()) "
    }
   },
   "types_to_exclude": [
    "module",
    "function",
    "builtin_function_or_method",
    "instance",
    "_Feature"
   ],
   "window_display": false
  }
 },
 "nbformat": 4,
 "nbformat_minor": 2
}
